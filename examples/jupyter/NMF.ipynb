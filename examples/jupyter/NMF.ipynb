{
 "cells": [
  {
   "cell_type": "code",
   "execution_count": 12,
   "metadata": {
    "collapsed": true
   },
   "outputs": [],
   "source": [
    "import numpy as np\n",
    "import random"
   ]
  },
  {
   "cell_type": "code",
   "execution_count": 2,
   "metadata": {
    "collapsed": false
   },
   "outputs": [],
   "source": [
    "def difcost(a,b):\n",
    "    dif = 0\n",
    "    for i in range(np.shape(a)[0]):\n",
    "        for j in range(np.shape(a)[1]):\n",
    "            dif += pow(a[i,j]-b[i,j], 2)\n",
    "    return dif"
   ]
  },
  {
   "cell_type": "code",
   "execution_count": 26,
   "metadata": {
    "collapsed": true
   },
   "outputs": [],
   "source": [
    "def factorize(v, pc=10, iter=50):\n",
    "    ic = np.shape(v)[0]\n",
    "    fc = np.shape(v)[1]\n",
    "    \n",
    "    # 以随机值初始化权重矩阵和特征矩阵\n",
    "    w = np.matrix([[random.random() for j in range(pc)] for i in range(ic)])\n",
    "    #print w\n",
    "    h = np.matrix([[random.random() for i in range(fc)] for i in range(pc)])\n",
    "    #print h\n",
    "    \n",
    "    # 最多执行iter次操作\n",
    "    for i in range(iter):\n",
    "        wh = w*h\n",
    "        \n",
    "        # 计算当前差值\n",
    "        cost = difcost(v, wh)\n",
    "        \n",
    "        if i%10==0: print cost\n",
    "        \n",
    "        # 如果矩阵已分解彻底，则立即终止\n",
    "        if cost == 0: break\n",
    "            \n",
    "        # 更新特征矩阵\n",
    "        hn = (np.transpose(w)*v)\n",
    "        hd = (np.transpose(w)*w*h)\n",
    "        \n",
    "        h = np.matrix(np.array(h)*np.array(hn)/np.array(hd))\n",
    "        \n",
    "        # 更新权重矩阵\n",
    "        wn = (v*np.transpose(h))\n",
    "        wd = (w*h*np.transpose(h))\n",
    "        \n",
    "        w = np.matrix(np.array(w)*np.array(wn)/np.array(wd))\n",
    "    \n",
    "    return w,h"
   ]
  },
  {
   "cell_type": "code",
   "execution_count": 7,
   "metadata": {
    "collapsed": false
   },
   "outputs": [],
   "source": [
    "import numpy as np"
   ]
  },
  {
   "cell_type": "code",
   "execution_count": 8,
   "metadata": {
    "collapsed": true
   },
   "outputs": [],
   "source": [
    "m1 = np.matrix([[1,2,3],[4,5,6]])"
   ]
  },
  {
   "cell_type": "code",
   "execution_count": 9,
   "metadata": {
    "collapsed": true
   },
   "outputs": [],
   "source": [
    "m2 = np.matrix([[1,2],[3,4],[5,6]])"
   ]
  },
  {
   "cell_type": "code",
   "execution_count": 31,
   "metadata": {
    "collapsed": false,
    "scrolled": true
   },
   "outputs": [
    {
     "name": "stdout",
     "output_type": "stream",
     "text": [
      "7434.89065253\n",
      "0.953489044346\n",
      "0.471352655635\n",
      "0.246371170829\n",
      "0.133005823913\n",
      "0.0732283058122\n",
      "0.0408182635352\n",
      "0.0229354990843\n",
      "0.0129560742048\n",
      "0.0073452976791\n",
      "[[ 0.45017389  0.36067096  0.2982912 ]\n",
      " [ 1.0469546   0.92839352  0.55582433]]\n",
      "[[ 29.27328086  34.42691696]\n",
      " [  7.04753354  18.51140222]\n",
      " [ 21.20899374  19.40660478]]\n",
      "[[ 22.04636352  27.9634437 ]\n",
      " [ 48.97915535  64.01594812]]\n",
      "[[22 28]\n",
      " [49 64]]\n"
     ]
    }
   ],
   "source": [
    "w,h = factorize(m1*m2, pc=3, iter=100)\n",
    "print w\n",
    "print h\n",
    "print w*h\n",
    "print m1*m2"
   ]
  },
  {
   "cell_type": "code",
   "execution_count": null,
   "metadata": {
    "collapsed": true
   },
   "outputs": [],
   "source": []
  }
 ],
 "metadata": {
  "kernelspec": {
   "display_name": "Python 2",
   "language": "python",
   "name": "python2"
  },
  "language_info": {
   "codemirror_mode": {
    "name": "ipython",
    "version": 2
   },
   "file_extension": ".py",
   "mimetype": "text/x-python",
   "name": "python",
   "nbconvert_exporter": "python",
   "pygments_lexer": "ipython2",
   "version": "2.7.11"
  }
 },
 "nbformat": 4,
 "nbformat_minor": 1
}
